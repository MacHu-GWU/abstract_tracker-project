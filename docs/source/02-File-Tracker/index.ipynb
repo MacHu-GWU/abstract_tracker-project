{
 "cells": [
  {
   "cell_type": "markdown",
   "id": "421f14c5-b511-48f4-bdc9-fe64b3a3ae67",
   "metadata": {
    "editable": true,
    "slideshow": {
     "slide_type": ""
    },
    "tags": [],
    "pycharm": {
     "name": "#%% md\n"
    }
   },
   "source": [
    "# File Tracker"
   ]
  },
  {
   "cell_type": "raw",
   "id": "b8e33a83-6ac2-4f35-9ebf-679e327d7241",
   "metadata": {
    "editable": true,
    "raw_mimetype": "text/restructuredtext",
    "slideshow": {
     "slide_type": ""
    },
    "tags": [],
    "pycharm": {
     "name": "#%% raw\n"
    }
   },
   "source": [
    ":class:`~abstract_tracker.trackers.file_tracker.FileTracker` uses a local json file as the backend."
   ]
  },
  {
   "cell_type": "markdown",
   "id": "b82b69e5-8824-4b9c-bdb1-a829dc91482c",
   "metadata": {
    "editable": true,
    "slideshow": {
     "slide_type": ""
    },
    "tags": [],
    "pycharm": {
     "name": "#%% md\n"
    }
   },
   "source": [
    "## Declare Your Own Tracker"
   ]
  },
  {
   "cell_type": "raw",
   "id": "1a71a80f-e902-42cc-8c43-21faa3c816ff",
   "metadata": {
    "editable": true,
    "raw_mimetype": "text/restructuredtext",
    "slideshow": {
     "slide_type": ""
    },
    "tags": [],
    "pycharm": {
     "name": "#%% raw\n"
    }
   },
   "source": [
    "You have to implement the :meth:`~abstract_tracker.trackers.file_tracker.FileTracker.get_path` method to define where to store the tracker data."
   ]
  },
  {
   "cell_type": "code",
   "execution_count": 1,
   "id": "01a23982-c951-415c-99b2-0c34aa141ad4",
   "metadata": {
    "editable": true,
    "slideshow": {
     "slide_type": ""
    },
    "tags": [],
    "pycharm": {
     "name": "#%%\n"
    }
   },
   "outputs": [],
   "source": [
    "import shutil\n",
    "import random\n",
    "import dataclasses\n",
    "from pathlib import Path\n",
    "\n",
    "from abstract_tracker.api import logger, FileTracker, TaskLockedError\n",
    "\n",
    "from rich import print as rprint\n",
    "\n",
    "dir_data = Path.cwd() / \"data\"\n",
    "\n",
    "@dataclasses.dataclass\n",
    "class MyTracker(FileTracker):\n",
    "    @classmethod\n",
    "    def get_path(cls, id) -> Path:\n",
    "        \"\"\"\n",
    "        The path of the tracker file.\n",
    "        \"\"\"\n",
    "        return dir_data.joinpath(f\"{id}.json\")\n",
    "\n",
    "    @classmethod\n",
    "    def get_expire(cls) -> int:\n",
    "        \"\"\"\n",
    "        Number of seconds before a lock expires for this tracker.\n",
    "\n",
    "        If you don't declare this, then it will use default = 900 (15 minutes)\n",
    "        \"\"\"\n",
    "        return 10\n",
    "\n",
    "    @classmethod\n",
    "    def get_max_attempts(cls) -> int:\n",
    "        \"\"\"\n",
    "        Maximum number of attempts before this task is considered exhaused.\n",
    "\n",
    "        If you don't declare this, then it will use default = 3\n",
    "        \"\"\"\n",
    "        return 3\n",
    "\n",
    "\n",
    "class TaskError(Exception):\n",
    "    pass\n",
    "\n",
    "\n",
    "# define some dummy task\n",
    "def run_good_task():\n",
    "    logger.info(\"run good task\")\n",
    "\n",
    "\n",
    "def run_bad_task():\n",
    "    logger.info(\"run bad task\")\n",
    "    raise TaskError(\"task failed\")"
   ]
  },
  {
   "cell_type": "code",
   "execution_count": 2,
   "id": "6ffc9907-9c98-4728-919b-2c534bbcb09c",
   "metadata": {
    "editable": true,
    "slideshow": {
     "slide_type": ""
    },
    "tags": [],
    "pycharm": {
     "name": "#%%\n"
    }
   },
   "outputs": [],
   "source": [
    "# clean up existing data, let's start from scratch\n",
    "shutil.rmtree(dir_data, ignore_errors=True)\n",
    "dir_data.mkdir(parents=True, exist_ok=True)"
   ]
  },
  {
   "cell_type": "markdown",
   "id": "7d09da07-5aea-4223-b5d9-5e332637e287",
   "metadata": {
    "editable": true,
    "slideshow": {
     "slide_type": ""
    },
    "tags": [],
    "pycharm": {
     "name": "#%% md\n"
    }
   },
   "source": [
    "## Create a new Tracker"
   ]
  },
  {
   "cell_type": "code",
   "execution_count": 3,
   "id": "56d0c73a-5935-4ca6-b98f-313706abc36e",
   "metadata": {
    "editable": true,
    "slideshow": {
     "slide_type": ""
    },
    "tags": [],
    "pycharm": {
     "name": "#%%\n"
    }
   },
   "outputs": [
    {
     "data": {
      "text/html": [
       "<pre style=\"white-space:pre;overflow-x:auto;line-height:normal;font-family:Menlo,'DejaVu Sans Mono',consolas,'Courier New',monospace\"><span style=\"color: #800080; text-decoration-color: #800080; font-weight: bold\">MyTracker</span><span style=\"font-weight: bold\">(</span>\n",
       "    <span style=\"color: #808000; text-decoration-color: #808000\">id</span>=<span style=\"color: #008080; text-decoration-color: #008080; font-weight: bold\">1</span>,\n",
       "    <span style=\"color: #808000; text-decoration-color: #808000\">status</span>=<span style=\"color: #008080; text-decoration-color: #008080; font-weight: bold\">0</span>,\n",
       "    <span style=\"color: #808000; text-decoration-color: #808000\">attempts</span>=<span style=\"color: #008080; text-decoration-color: #008080; font-weight: bold\">0</span>,\n",
       "    <span style=\"color: #808000; text-decoration-color: #808000\">create_time</span>=<span style=\"color: #800080; text-decoration-color: #800080; font-weight: bold\">datetime</span><span style=\"color: #800080; text-decoration-color: #800080; font-weight: bold\">.datetime</span><span style=\"font-weight: bold\">(</span><span style=\"color: #008080; text-decoration-color: #008080; font-weight: bold\">2024</span>, <span style=\"color: #008080; text-decoration-color: #008080; font-weight: bold\">1</span>, <span style=\"color: #008080; text-decoration-color: #008080; font-weight: bold\">9</span>, <span style=\"color: #008080; text-decoration-color: #008080; font-weight: bold\">4</span>, <span style=\"color: #008080; text-decoration-color: #008080; font-weight: bold\">51</span>, <span style=\"color: #008080; text-decoration-color: #008080; font-weight: bold\">7</span>, <span style=\"color: #008080; text-decoration-color: #008080; font-weight: bold\">114622</span>, <span style=\"color: #808000; text-decoration-color: #808000\">tzinfo</span>=<span style=\"color: #800080; text-decoration-color: #800080\">datetime</span>.timezone.utc<span style=\"font-weight: bold\">)</span>,\n",
       "    <span style=\"color: #808000; text-decoration-color: #808000\">update_time</span>=<span style=\"color: #800080; text-decoration-color: #800080; font-weight: bold\">datetime</span><span style=\"color: #800080; text-decoration-color: #800080; font-weight: bold\">.datetime</span><span style=\"font-weight: bold\">(</span><span style=\"color: #008080; text-decoration-color: #008080; font-weight: bold\">2024</span>, <span style=\"color: #008080; text-decoration-color: #008080; font-weight: bold\">1</span>, <span style=\"color: #008080; text-decoration-color: #008080; font-weight: bold\">9</span>, <span style=\"color: #008080; text-decoration-color: #008080; font-weight: bold\">4</span>, <span style=\"color: #008080; text-decoration-color: #008080; font-weight: bold\">51</span>, <span style=\"color: #008080; text-decoration-color: #008080; font-weight: bold\">7</span>, <span style=\"color: #008080; text-decoration-color: #008080; font-weight: bold\">114622</span>, <span style=\"color: #808000; text-decoration-color: #808000\">tzinfo</span>=<span style=\"color: #800080; text-decoration-color: #800080\">datetime</span>.timezone.utc<span style=\"font-weight: bold\">)</span>,\n",
       "    <span style=\"color: #808000; text-decoration-color: #808000\">lock</span>=<span style=\"color: #800080; text-decoration-color: #800080; font-style: italic\">None</span>,\n",
       "    <span style=\"color: #808000; text-decoration-color: #808000\">lock_time</span>=<span style=\"color: #800080; text-decoration-color: #800080; font-weight: bold\">datetime</span><span style=\"color: #800080; text-decoration-color: #800080; font-weight: bold\">.datetime</span><span style=\"font-weight: bold\">(</span><span style=\"color: #008080; text-decoration-color: #008080; font-weight: bold\">1970</span>, <span style=\"color: #008080; text-decoration-color: #008080; font-weight: bold\">1</span>, <span style=\"color: #008080; text-decoration-color: #008080; font-weight: bold\">1</span>, <span style=\"color: #008080; text-decoration-color: #008080; font-weight: bold\">0</span>, <span style=\"color: #008080; text-decoration-color: #008080; font-weight: bold\">0</span>, <span style=\"color: #808000; text-decoration-color: #808000\">tzinfo</span>=<span style=\"color: #800080; text-decoration-color: #800080\">datetime</span>.timezone.utc<span style=\"font-weight: bold\">)</span>,\n",
       "    <span style=\"color: #808000; text-decoration-color: #808000\">lock_expire_time</span>=<span style=\"color: #800080; text-decoration-color: #800080; font-weight: bold\">datetime</span><span style=\"color: #800080; text-decoration-color: #800080; font-weight: bold\">.datetime</span><span style=\"font-weight: bold\">(</span><span style=\"color: #008080; text-decoration-color: #008080; font-weight: bold\">1970</span>, <span style=\"color: #008080; text-decoration-color: #008080; font-weight: bold\">1</span>, <span style=\"color: #008080; text-decoration-color: #008080; font-weight: bold\">1</span>, <span style=\"color: #008080; text-decoration-color: #008080; font-weight: bold\">0</span>, <span style=\"color: #008080; text-decoration-color: #008080; font-weight: bold\">0</span>, <span style=\"color: #808000; text-decoration-color: #808000\">tzinfo</span>=<span style=\"color: #800080; text-decoration-color: #800080\">datetime</span>.timezone.utc<span style=\"font-weight: bold\">)</span>,\n",
       "    <span style=\"color: #808000; text-decoration-color: #808000\">data</span>=<span style=\"font-weight: bold\">{}</span>,\n",
       "    <span style=\"color: #808000; text-decoration-color: #808000\">errors</span>=<span style=\"font-weight: bold\">{}</span>\n",
       "<span style=\"font-weight: bold\">)</span>\n",
       "</pre>\n"
      ],
      "text/plain": [
       "\u001B[1;35mMyTracker\u001B[0m\u001B[1m(\u001B[0m\n",
       "    \u001B[33mid\u001B[0m=\u001B[1;36m1\u001B[0m,\n",
       "    \u001B[33mstatus\u001B[0m=\u001B[1;36m0\u001B[0m,\n",
       "    \u001B[33mattempts\u001B[0m=\u001B[1;36m0\u001B[0m,\n",
       "    \u001B[33mcreate_time\u001B[0m=\u001B[1;35mdatetime\u001B[0m\u001B[1;35m.datetime\u001B[0m\u001B[1m(\u001B[0m\u001B[1;36m2024\u001B[0m, \u001B[1;36m1\u001B[0m, \u001B[1;36m9\u001B[0m, \u001B[1;36m4\u001B[0m, \u001B[1;36m51\u001B[0m, \u001B[1;36m7\u001B[0m, \u001B[1;36m114622\u001B[0m, \u001B[33mtzinfo\u001B[0m=\u001B[35mdatetime\u001B[0m.timezone.utc\u001B[1m)\u001B[0m,\n",
       "    \u001B[33mupdate_time\u001B[0m=\u001B[1;35mdatetime\u001B[0m\u001B[1;35m.datetime\u001B[0m\u001B[1m(\u001B[0m\u001B[1;36m2024\u001B[0m, \u001B[1;36m1\u001B[0m, \u001B[1;36m9\u001B[0m, \u001B[1;36m4\u001B[0m, \u001B[1;36m51\u001B[0m, \u001B[1;36m7\u001B[0m, \u001B[1;36m114622\u001B[0m, \u001B[33mtzinfo\u001B[0m=\u001B[35mdatetime\u001B[0m.timezone.utc\u001B[1m)\u001B[0m,\n",
       "    \u001B[33mlock\u001B[0m=\u001B[3;35mNone\u001B[0m,\n",
       "    \u001B[33mlock_time\u001B[0m=\u001B[1;35mdatetime\u001B[0m\u001B[1;35m.datetime\u001B[0m\u001B[1m(\u001B[0m\u001B[1;36m1970\u001B[0m, \u001B[1;36m1\u001B[0m, \u001B[1;36m1\u001B[0m, \u001B[1;36m0\u001B[0m, \u001B[1;36m0\u001B[0m, \u001B[33mtzinfo\u001B[0m=\u001B[35mdatetime\u001B[0m.timezone.utc\u001B[1m)\u001B[0m,\n",
       "    \u001B[33mlock_expire_time\u001B[0m=\u001B[1;35mdatetime\u001B[0m\u001B[1;35m.datetime\u001B[0m\u001B[1m(\u001B[0m\u001B[1;36m1970\u001B[0m, \u001B[1;36m1\u001B[0m, \u001B[1;36m1\u001B[0m, \u001B[1;36m0\u001B[0m, \u001B[1;36m0\u001B[0m, \u001B[33mtzinfo\u001B[0m=\u001B[35mdatetime\u001B[0m.timezone.utc\u001B[1m)\u001B[0m,\n",
       "    \u001B[33mdata\u001B[0m=\u001B[1m{\u001B[0m\u001B[1m}\u001B[0m,\n",
       "    \u001B[33merrors\u001B[0m=\u001B[1m{\u001B[0m\u001B[1m}\u001B[0m\n",
       "\u001B[1m)\u001B[0m\n"
      ]
     },
     "metadata": {},
     "output_type": "display_data"
    }
   ],
   "source": [
    "# try to load the existing tracker from file backend, if it doesn't exist, then it will be None\n",
    "tracker = MyTracker.load(id=1)\n",
    "if tracker is None: # if not exist, create a new tracker with pending status\n",
    "    tracker = MyTracker.new(id=1)\n",
    "rprint(tracker)"
   ]
  },
  {
   "cell_type": "markdown",
   "id": "9dd8048f-eb5e-4422-b96a-46104d2321fe",
   "metadata": {
    "editable": true,
    "slideshow": {
     "slide_type": ""
    },
    "tags": [],
    "pycharm": {
     "name": "#%% md\n"
    }
   },
   "source": [
    "## Use Context Manager to Manage Lock and Status Automatically"
   ]
  },
  {
   "cell_type": "code",
   "execution_count": 4,
   "id": "5e1b5e05-7599-450f-b9c4-c0091ff176e1",
   "metadata": {
    "editable": true,
    "slideshow": {
     "slide_type": ""
    },
    "tags": [],
    "pycharm": {
     "name": "#%%\n"
    }
   },
   "outputs": [
    {
     "name": "stdout",
     "output_type": "stream",
     "text": [
      "+----- ⏱ ⏩ start task(id=1, status=0 (pending), attempts=1) -------------------+\n",
      "| set status = 10 (⏳ in_progress) and 🔓 lock the task.\n",
      "| +----- start task logging ---------------------------------------------------+\n",
      "| ⏳ run good task\n",
      "| +----- end task logging -----------------------------------------------------+\n",
      "| task succeeded, set status = 40 (✅ succeeded) and 🔐 unlock the task.\n",
      "+----- ⏰ ⏹️ end task(id=1 status=40)) -----------------------------------------+\n"
     ]
    }
   ],
   "source": [
    "with tracker.start(verbose=True):\n",
    "    run_good_task()"
   ]
  },
  {
   "cell_type": "code",
   "execution_count": 5,
   "id": "797abc99-d37a-4a0d-83c7-e6990cae9869",
   "metadata": {
    "editable": true,
    "slideshow": {
     "slide_type": ""
    },
    "tags": [],
    "pycharm": {
     "name": "#%%\n"
    }
   },
   "outputs": [
    {
     "data": {
      "text/html": [
       "<pre style=\"white-space:pre;overflow-x:auto;line-height:normal;font-family:Menlo,'DejaVu Sans Mono',consolas,'Courier New',monospace\"><span style=\"color: #800080; text-decoration-color: #800080; font-weight: bold\">MyTracker</span><span style=\"font-weight: bold\">(</span>\n",
       "    <span style=\"color: #808000; text-decoration-color: #808000\">id</span>=<span style=\"color: #008080; text-decoration-color: #008080; font-weight: bold\">1</span>,\n",
       "    <span style=\"color: #808000; text-decoration-color: #808000\">status</span>=<span style=\"color: #008080; text-decoration-color: #008080; font-weight: bold\">40</span>,\n",
       "    <span style=\"color: #808000; text-decoration-color: #808000\">attempts</span>=<span style=\"color: #008080; text-decoration-color: #008080; font-weight: bold\">1</span>,\n",
       "    <span style=\"color: #808000; text-decoration-color: #808000\">create_time</span>=<span style=\"color: #800080; text-decoration-color: #800080; font-weight: bold\">datetime</span><span style=\"color: #800080; text-decoration-color: #800080; font-weight: bold\">.datetime</span><span style=\"font-weight: bold\">(</span><span style=\"color: #008080; text-decoration-color: #008080; font-weight: bold\">2024</span>, <span style=\"color: #008080; text-decoration-color: #008080; font-weight: bold\">1</span>, <span style=\"color: #008080; text-decoration-color: #008080; font-weight: bold\">9</span>, <span style=\"color: #008080; text-decoration-color: #008080; font-weight: bold\">4</span>, <span style=\"color: #008080; text-decoration-color: #008080; font-weight: bold\">51</span>, <span style=\"color: #008080; text-decoration-color: #008080; font-weight: bold\">7</span>, <span style=\"color: #008080; text-decoration-color: #008080; font-weight: bold\">114622</span>, <span style=\"color: #808000; text-decoration-color: #808000\">tzinfo</span>=<span style=\"color: #800080; text-decoration-color: #800080\">datetime</span>.timezone.utc<span style=\"font-weight: bold\">)</span>,\n",
       "    <span style=\"color: #808000; text-decoration-color: #808000\">update_time</span>=<span style=\"color: #800080; text-decoration-color: #800080; font-weight: bold\">datetime</span><span style=\"color: #800080; text-decoration-color: #800080; font-weight: bold\">.datetime</span><span style=\"font-weight: bold\">(</span><span style=\"color: #008080; text-decoration-color: #008080; font-weight: bold\">2024</span>, <span style=\"color: #008080; text-decoration-color: #008080; font-weight: bold\">1</span>, <span style=\"color: #008080; text-decoration-color: #008080; font-weight: bold\">9</span>, <span style=\"color: #008080; text-decoration-color: #008080; font-weight: bold\">4</span>, <span style=\"color: #008080; text-decoration-color: #008080; font-weight: bold\">51</span>, <span style=\"color: #008080; text-decoration-color: #008080; font-weight: bold\">7</span>, <span style=\"color: #008080; text-decoration-color: #008080; font-weight: bold\">162125</span>, <span style=\"color: #808000; text-decoration-color: #808000\">tzinfo</span>=<span style=\"color: #800080; text-decoration-color: #800080\">datetime</span>.timezone.utc<span style=\"font-weight: bold\">)</span>,\n",
       "    <span style=\"color: #808000; text-decoration-color: #808000\">lock</span>=<span style=\"color: #800080; text-decoration-color: #800080; font-style: italic\">None</span>,\n",
       "    <span style=\"color: #808000; text-decoration-color: #808000\">lock_time</span>=<span style=\"color: #800080; text-decoration-color: #800080; font-weight: bold\">datetime</span><span style=\"color: #800080; text-decoration-color: #800080; font-weight: bold\">.datetime</span><span style=\"font-weight: bold\">(</span><span style=\"color: #008080; text-decoration-color: #008080; font-weight: bold\">2024</span>, <span style=\"color: #008080; text-decoration-color: #008080; font-weight: bold\">1</span>, <span style=\"color: #008080; text-decoration-color: #008080; font-weight: bold\">9</span>, <span style=\"color: #008080; text-decoration-color: #008080; font-weight: bold\">4</span>, <span style=\"color: #008080; text-decoration-color: #008080; font-weight: bold\">51</span>, <span style=\"color: #008080; text-decoration-color: #008080; font-weight: bold\">7</span>, <span style=\"color: #008080; text-decoration-color: #008080; font-weight: bold\">160961</span>, <span style=\"color: #808000; text-decoration-color: #808000\">tzinfo</span>=<span style=\"color: #800080; text-decoration-color: #800080\">datetime</span>.timezone.utc<span style=\"font-weight: bold\">)</span>,\n",
       "    <span style=\"color: #808000; text-decoration-color: #808000\">lock_expire_time</span>=<span style=\"color: #800080; text-decoration-color: #800080; font-weight: bold\">datetime</span><span style=\"color: #800080; text-decoration-color: #800080; font-weight: bold\">.datetime</span><span style=\"font-weight: bold\">(</span><span style=\"color: #008080; text-decoration-color: #008080; font-weight: bold\">2024</span>, <span style=\"color: #008080; text-decoration-color: #008080; font-weight: bold\">1</span>, <span style=\"color: #008080; text-decoration-color: #008080; font-weight: bold\">9</span>, <span style=\"color: #008080; text-decoration-color: #008080; font-weight: bold\">4</span>, <span style=\"color: #008080; text-decoration-color: #008080; font-weight: bold\">51</span>, <span style=\"color: #008080; text-decoration-color: #008080; font-weight: bold\">17</span>, <span style=\"color: #008080; text-decoration-color: #008080; font-weight: bold\">160961</span>, <span style=\"color: #808000; text-decoration-color: #808000\">tzinfo</span>=<span style=\"color: #800080; text-decoration-color: #800080\">datetime</span>.timezone.utc<span style=\"font-weight: bold\">)</span>,\n",
       "    <span style=\"color: #808000; text-decoration-color: #808000\">data</span>=<span style=\"font-weight: bold\">{}</span>,\n",
       "    <span style=\"color: #808000; text-decoration-color: #808000\">errors</span>=<span style=\"font-weight: bold\">{}</span>\n",
       "<span style=\"font-weight: bold\">)</span>\n",
       "</pre>\n"
      ],
      "text/plain": [
       "\u001B[1;35mMyTracker\u001B[0m\u001B[1m(\u001B[0m\n",
       "    \u001B[33mid\u001B[0m=\u001B[1;36m1\u001B[0m,\n",
       "    \u001B[33mstatus\u001B[0m=\u001B[1;36m40\u001B[0m,\n",
       "    \u001B[33mattempts\u001B[0m=\u001B[1;36m1\u001B[0m,\n",
       "    \u001B[33mcreate_time\u001B[0m=\u001B[1;35mdatetime\u001B[0m\u001B[1;35m.datetime\u001B[0m\u001B[1m(\u001B[0m\u001B[1;36m2024\u001B[0m, \u001B[1;36m1\u001B[0m, \u001B[1;36m9\u001B[0m, \u001B[1;36m4\u001B[0m, \u001B[1;36m51\u001B[0m, \u001B[1;36m7\u001B[0m, \u001B[1;36m114622\u001B[0m, \u001B[33mtzinfo\u001B[0m=\u001B[35mdatetime\u001B[0m.timezone.utc\u001B[1m)\u001B[0m,\n",
       "    \u001B[33mupdate_time\u001B[0m=\u001B[1;35mdatetime\u001B[0m\u001B[1;35m.datetime\u001B[0m\u001B[1m(\u001B[0m\u001B[1;36m2024\u001B[0m, \u001B[1;36m1\u001B[0m, \u001B[1;36m9\u001B[0m, \u001B[1;36m4\u001B[0m, \u001B[1;36m51\u001B[0m, \u001B[1;36m7\u001B[0m, \u001B[1;36m162125\u001B[0m, \u001B[33mtzinfo\u001B[0m=\u001B[35mdatetime\u001B[0m.timezone.utc\u001B[1m)\u001B[0m,\n",
       "    \u001B[33mlock\u001B[0m=\u001B[3;35mNone\u001B[0m,\n",
       "    \u001B[33mlock_time\u001B[0m=\u001B[1;35mdatetime\u001B[0m\u001B[1;35m.datetime\u001B[0m\u001B[1m(\u001B[0m\u001B[1;36m2024\u001B[0m, \u001B[1;36m1\u001B[0m, \u001B[1;36m9\u001B[0m, \u001B[1;36m4\u001B[0m, \u001B[1;36m51\u001B[0m, \u001B[1;36m7\u001B[0m, \u001B[1;36m160961\u001B[0m, \u001B[33mtzinfo\u001B[0m=\u001B[35mdatetime\u001B[0m.timezone.utc\u001B[1m)\u001B[0m,\n",
       "    \u001B[33mlock_expire_time\u001B[0m=\u001B[1;35mdatetime\u001B[0m\u001B[1;35m.datetime\u001B[0m\u001B[1m(\u001B[0m\u001B[1;36m2024\u001B[0m, \u001B[1;36m1\u001B[0m, \u001B[1;36m9\u001B[0m, \u001B[1;36m4\u001B[0m, \u001B[1;36m51\u001B[0m, \u001B[1;36m17\u001B[0m, \u001B[1;36m160961\u001B[0m, \u001B[33mtzinfo\u001B[0m=\u001B[35mdatetime\u001B[0m.timezone.utc\u001B[1m)\u001B[0m,\n",
       "    \u001B[33mdata\u001B[0m=\u001B[1m{\u001B[0m\u001B[1m}\u001B[0m,\n",
       "    \u001B[33merrors\u001B[0m=\u001B[1m{\u001B[0m\u001B[1m}\u001B[0m\n",
       "\u001B[1m)\u001B[0m\n"
      ]
     },
     "metadata": {},
     "output_type": "display_data"
    },
    {
     "name": "stdout",
     "output_type": "stream",
     "text": [
      "tracker.status_name = 'succeeded'\n"
     ]
    }
   ],
   "source": [
    "tracker = MyTracker.load(id=1)\n",
    "rprint(tracker)\n",
    "print(f\"{tracker.status_name = }\")"
   ]
  },
  {
   "cell_type": "markdown",
   "id": "1ceb070e-665f-4d2c-ba84-9797b8b97cf4",
   "metadata": {
    "editable": true,
    "slideshow": {
     "slide_type": ""
    },
    "tags": [],
    "pycharm": {
     "name": "#%% md\n"
    }
   },
   "source": [
    "## Automatically Log Error Message"
   ]
  },
  {
   "cell_type": "code",
   "execution_count": 6,
   "id": "fd4f7d8a-1c9c-46ec-b4ff-e953f4e94d22",
   "metadata": {
    "editable": true,
    "slideshow": {
     "slide_type": ""
    },
    "tags": [],
    "pycharm": {
     "name": "#%%\n"
    }
   },
   "outputs": [],
   "source": [
    "# test on another task (id=2)\n",
    "tracker = MyTracker.new(id=2)"
   ]
  },
  {
   "cell_type": "code",
   "execution_count": 7,
   "id": "febced6b-7f59-4f40-ae31-0e2498de4f2e",
   "metadata": {
    "editable": true,
    "slideshow": {
     "slide_type": ""
    },
    "tags": [],
    "pycharm": {
     "name": "#%%\n"
    }
   },
   "outputs": [
    {
     "name": "stdout",
     "output_type": "stream",
     "text": [
      "+----- ⏱ ⏩ start task(id=2, status=0 (pending), attempts=1) -------------------+\n",
      "| set status = 10 (⏳ in_progress) and 🔓 lock the task.\n",
      "| +----- start task logging ---------------------------------------------------+\n",
      "| ⏳ run bad task\n",
      "| +----- end task logging -----------------------------------------------------+\n",
      "| ❌ task failed, set status = 20 (❌ failed) and 🔐 unlock the task.\n",
      "+----- ⏰ ⏹️ end task(id=2 status=20)) -----------------------------------------+\n"
     ]
    },
    {
     "ename": "TaskError",
     "evalue": "task failed",
     "output_type": "error",
     "traceback": [
      "\u001B[0;31m---------------------------------------------------------------------------\u001B[0m",
      "\u001B[0;31mTaskError\u001B[0m                                 Traceback (most recent call last)",
      "Cell \u001B[0;32mIn[7], line 2\u001B[0m\n\u001B[1;32m      1\u001B[0m \u001B[38;5;28;01mwith\u001B[39;00m tracker\u001B[38;5;241m.\u001B[39mstart(verbose\u001B[38;5;241m=\u001B[39m\u001B[38;5;28;01mTrue\u001B[39;00m):\n\u001B[0;32m----> 2\u001B[0m     \u001B[43mrun_bad_task\u001B[49m\u001B[43m(\u001B[49m\u001B[43m)\u001B[49m\n",
      "Cell \u001B[0;32mIn[1], line 51\u001B[0m, in \u001B[0;36mrun_bad_task\u001B[0;34m()\u001B[0m\n\u001B[1;32m     49\u001B[0m \u001B[38;5;28;01mdef\u001B[39;00m \u001B[38;5;21mrun_bad_task\u001B[39m():\n\u001B[1;32m     50\u001B[0m     logger\u001B[38;5;241m.\u001B[39minfo(\u001B[38;5;124m\"\u001B[39m\u001B[38;5;124mrun bad task\u001B[39m\u001B[38;5;124m\"\u001B[39m)\n\u001B[0;32m---> 51\u001B[0m     \u001B[38;5;28;01mraise\u001B[39;00m TaskError(\u001B[38;5;124m\"\u001B[39m\u001B[38;5;124mtask failed\u001B[39m\u001B[38;5;124m\"\u001B[39m)\n",
      "\u001B[0;31mTaskError\u001B[0m: task failed"
     ]
    }
   ],
   "source": [
    "with tracker.start(verbose=True):\n",
    "    run_bad_task()"
   ]
  },
  {
   "cell_type": "code",
   "execution_count": 8,
   "id": "bb05586c-f8ac-4879-88be-7cdf087bd63b",
   "metadata": {
    "editable": true,
    "scrolled": true,
    "slideshow": {
     "slide_type": ""
    },
    "tags": [],
    "pycharm": {
     "name": "#%%\n"
    }
   },
   "outputs": [
    {
     "data": {
      "text/html": [
       "<pre style=\"white-space:pre;overflow-x:auto;line-height:normal;font-family:Menlo,'DejaVu Sans Mono',consolas,'Courier New',monospace\"><span style=\"color: #800080; text-decoration-color: #800080; font-weight: bold\">MyTracker</span><span style=\"font-weight: bold\">(</span>\n",
       "    <span style=\"color: #808000; text-decoration-color: #808000\">id</span>=<span style=\"color: #008080; text-decoration-color: #008080; font-weight: bold\">2</span>,\n",
       "    <span style=\"color: #808000; text-decoration-color: #808000\">status</span>=<span style=\"color: #008080; text-decoration-color: #008080; font-weight: bold\">20</span>,\n",
       "    <span style=\"color: #808000; text-decoration-color: #808000\">attempts</span>=<span style=\"color: #008080; text-decoration-color: #008080; font-weight: bold\">1</span>,\n",
       "    <span style=\"color: #808000; text-decoration-color: #808000\">create_time</span>=<span style=\"color: #800080; text-decoration-color: #800080; font-weight: bold\">datetime</span><span style=\"color: #800080; text-decoration-color: #800080; font-weight: bold\">.datetime</span><span style=\"font-weight: bold\">(</span><span style=\"color: #008080; text-decoration-color: #008080; font-weight: bold\">2024</span>, <span style=\"color: #008080; text-decoration-color: #008080; font-weight: bold\">1</span>, <span style=\"color: #008080; text-decoration-color: #008080; font-weight: bold\">9</span>, <span style=\"color: #008080; text-decoration-color: #008080; font-weight: bold\">4</span>, <span style=\"color: #008080; text-decoration-color: #008080; font-weight: bold\">51</span>, <span style=\"color: #008080; text-decoration-color: #008080; font-weight: bold\">7</span>, <span style=\"color: #008080; text-decoration-color: #008080; font-weight: bold\">172294</span>, <span style=\"color: #808000; text-decoration-color: #808000\">tzinfo</span>=<span style=\"color: #800080; text-decoration-color: #800080\">datetime</span>.timezone.utc<span style=\"font-weight: bold\">)</span>,\n",
       "    <span style=\"color: #808000; text-decoration-color: #808000\">update_time</span>=<span style=\"color: #800080; text-decoration-color: #800080; font-weight: bold\">datetime</span><span style=\"color: #800080; text-decoration-color: #800080; font-weight: bold\">.datetime</span><span style=\"font-weight: bold\">(</span><span style=\"color: #008080; text-decoration-color: #008080; font-weight: bold\">2024</span>, <span style=\"color: #008080; text-decoration-color: #008080; font-weight: bold\">1</span>, <span style=\"color: #008080; text-decoration-color: #008080; font-weight: bold\">9</span>, <span style=\"color: #008080; text-decoration-color: #008080; font-weight: bold\">4</span>, <span style=\"color: #008080; text-decoration-color: #008080; font-weight: bold\">51</span>, <span style=\"color: #008080; text-decoration-color: #008080; font-weight: bold\">7</span>, <span style=\"color: #008080; text-decoration-color: #008080; font-weight: bold\">315313</span>, <span style=\"color: #808000; text-decoration-color: #808000\">tzinfo</span>=<span style=\"color: #800080; text-decoration-color: #800080\">datetime</span>.timezone.utc<span style=\"font-weight: bold\">)</span>,\n",
       "    <span style=\"color: #808000; text-decoration-color: #808000\">lock</span>=<span style=\"color: #800080; text-decoration-color: #800080; font-style: italic\">None</span>,\n",
       "    <span style=\"color: #808000; text-decoration-color: #808000\">lock_time</span>=<span style=\"color: #800080; text-decoration-color: #800080; font-weight: bold\">datetime</span><span style=\"color: #800080; text-decoration-color: #800080; font-weight: bold\">.datetime</span><span style=\"font-weight: bold\">(</span><span style=\"color: #008080; text-decoration-color: #008080; font-weight: bold\">2024</span>, <span style=\"color: #008080; text-decoration-color: #008080; font-weight: bold\">1</span>, <span style=\"color: #008080; text-decoration-color: #008080; font-weight: bold\">9</span>, <span style=\"color: #008080; text-decoration-color: #008080; font-weight: bold\">4</span>, <span style=\"color: #008080; text-decoration-color: #008080; font-weight: bold\">51</span>, <span style=\"color: #008080; text-decoration-color: #008080; font-weight: bold\">7</span>, <span style=\"color: #008080; text-decoration-color: #008080; font-weight: bold\">313203</span>, <span style=\"color: #808000; text-decoration-color: #808000\">tzinfo</span>=<span style=\"color: #800080; text-decoration-color: #800080\">datetime</span>.timezone.utc<span style=\"font-weight: bold\">)</span>,\n",
       "    <span style=\"color: #808000; text-decoration-color: #808000\">lock_expire_time</span>=<span style=\"color: #800080; text-decoration-color: #800080; font-weight: bold\">datetime</span><span style=\"color: #800080; text-decoration-color: #800080; font-weight: bold\">.datetime</span><span style=\"font-weight: bold\">(</span><span style=\"color: #008080; text-decoration-color: #008080; font-weight: bold\">2024</span>, <span style=\"color: #008080; text-decoration-color: #008080; font-weight: bold\">1</span>, <span style=\"color: #008080; text-decoration-color: #008080; font-weight: bold\">9</span>, <span style=\"color: #008080; text-decoration-color: #008080; font-weight: bold\">4</span>, <span style=\"color: #008080; text-decoration-color: #008080; font-weight: bold\">51</span>, <span style=\"color: #008080; text-decoration-color: #008080; font-weight: bold\">17</span>, <span style=\"color: #008080; text-decoration-color: #008080; font-weight: bold\">313203</span>, <span style=\"color: #808000; text-decoration-color: #808000\">tzinfo</span>=<span style=\"color: #800080; text-decoration-color: #800080\">datetime</span>.timezone.utc<span style=\"font-weight: bold\">)</span>,\n",
       "    <span style=\"color: #808000; text-decoration-color: #808000\">data</span>=<span style=\"font-weight: bold\">{}</span>,\n",
       "    <span style=\"color: #808000; text-decoration-color: #808000\">errors</span>=<span style=\"font-weight: bold\">{</span>\n",
       "        <span style=\"color: #008000; text-decoration-color: #008000\">'error'</span>: <span style=\"color: #008000; text-decoration-color: #008000\">\"TaskError('task failed')\"</span>,\n",
       "        <span style=\"color: #008000; text-decoration-color: #008000\">'traceback'</span>: <span style=\"color: #008000; text-decoration-color: #008000\">'Traceback (most recent call last):\\n  File </span>\n",
       "<span style=\"color: #008000; text-decoration-color: #008000\">\"/Users/sanhehu/Documents/GitHub/abstract_tracker-project/abstract_tracker/base.py\", line 370, in start\\n    yield </span>\n",
       "<span style=\"color: #008000; text-decoration-color: #008000\">self\\n  File \"/var/folders/3y/7t5ll4sn6x76g8rhfqlc36dw0000gn/T/ipykernel_7135/1894269443.py\", line 2, in &lt;module&gt;\\n</span>\n",
       "<span style=\"color: #008000; text-decoration-color: #008000\">run_bad_task()\\n  File \"/var/folders/3y/7t5ll4sn6x76g8rhfqlc36dw0000gn/T/ipykernel_7135/2741605091.py\", line 51, in</span>\n",
       "<span style=\"color: #008000; text-decoration-color: #008000\">run_bad_task\\n    raise TaskError(\"task failed\")\\nTaskError: task failed\\n'</span>\n",
       "    <span style=\"font-weight: bold\">}</span>\n",
       "<span style=\"font-weight: bold\">)</span>\n",
       "</pre>\n"
      ],
      "text/plain": [
       "\u001B[1;35mMyTracker\u001B[0m\u001B[1m(\u001B[0m\n",
       "    \u001B[33mid\u001B[0m=\u001B[1;36m2\u001B[0m,\n",
       "    \u001B[33mstatus\u001B[0m=\u001B[1;36m20\u001B[0m,\n",
       "    \u001B[33mattempts\u001B[0m=\u001B[1;36m1\u001B[0m,\n",
       "    \u001B[33mcreate_time\u001B[0m=\u001B[1;35mdatetime\u001B[0m\u001B[1;35m.datetime\u001B[0m\u001B[1m(\u001B[0m\u001B[1;36m2024\u001B[0m, \u001B[1;36m1\u001B[0m, \u001B[1;36m9\u001B[0m, \u001B[1;36m4\u001B[0m, \u001B[1;36m51\u001B[0m, \u001B[1;36m7\u001B[0m, \u001B[1;36m172294\u001B[0m, \u001B[33mtzinfo\u001B[0m=\u001B[35mdatetime\u001B[0m.timezone.utc\u001B[1m)\u001B[0m,\n",
       "    \u001B[33mupdate_time\u001B[0m=\u001B[1;35mdatetime\u001B[0m\u001B[1;35m.datetime\u001B[0m\u001B[1m(\u001B[0m\u001B[1;36m2024\u001B[0m, \u001B[1;36m1\u001B[0m, \u001B[1;36m9\u001B[0m, \u001B[1;36m4\u001B[0m, \u001B[1;36m51\u001B[0m, \u001B[1;36m7\u001B[0m, \u001B[1;36m315313\u001B[0m, \u001B[33mtzinfo\u001B[0m=\u001B[35mdatetime\u001B[0m.timezone.utc\u001B[1m)\u001B[0m,\n",
       "    \u001B[33mlock\u001B[0m=\u001B[3;35mNone\u001B[0m,\n",
       "    \u001B[33mlock_time\u001B[0m=\u001B[1;35mdatetime\u001B[0m\u001B[1;35m.datetime\u001B[0m\u001B[1m(\u001B[0m\u001B[1;36m2024\u001B[0m, \u001B[1;36m1\u001B[0m, \u001B[1;36m9\u001B[0m, \u001B[1;36m4\u001B[0m, \u001B[1;36m51\u001B[0m, \u001B[1;36m7\u001B[0m, \u001B[1;36m313203\u001B[0m, \u001B[33mtzinfo\u001B[0m=\u001B[35mdatetime\u001B[0m.timezone.utc\u001B[1m)\u001B[0m,\n",
       "    \u001B[33mlock_expire_time\u001B[0m=\u001B[1;35mdatetime\u001B[0m\u001B[1;35m.datetime\u001B[0m\u001B[1m(\u001B[0m\u001B[1;36m2024\u001B[0m, \u001B[1;36m1\u001B[0m, \u001B[1;36m9\u001B[0m, \u001B[1;36m4\u001B[0m, \u001B[1;36m51\u001B[0m, \u001B[1;36m17\u001B[0m, \u001B[1;36m313203\u001B[0m, \u001B[33mtzinfo\u001B[0m=\u001B[35mdatetime\u001B[0m.timezone.utc\u001B[1m)\u001B[0m,\n",
       "    \u001B[33mdata\u001B[0m=\u001B[1m{\u001B[0m\u001B[1m}\u001B[0m,\n",
       "    \u001B[33merrors\u001B[0m=\u001B[1m{\u001B[0m\n",
       "        \u001B[32m'error'\u001B[0m: \u001B[32m\"TaskError\u001B[0m\u001B[32m(\u001B[0m\u001B[32m'task failed'\u001B[0m\u001B[32m)\u001B[0m\u001B[32m\"\u001B[0m,\n",
       "        \u001B[32m'traceback'\u001B[0m: \u001B[32m'Traceback \u001B[0m\u001B[32m(\u001B[0m\u001B[32mmost recent call last\u001B[0m\u001B[32m)\u001B[0m\u001B[32m:\\n  File \u001B[0m\n",
       "\u001B[32m\"/Users/sanhehu/Documents/GitHub/abstract_tracker-project/abstract_tracker/base.py\", line 370, in start\\n    yield \u001B[0m\n",
       "\u001B[32mself\\n  File \"/var/folders/3y/7t5ll4sn6x76g8rhfqlc36dw0000gn/T/ipykernel_7135/1894269443.py\", line 2, in \u001B[0m\u001B[32m<\u001B[0m\u001B[32mmodule\u001B[0m\u001B[32m>\u001B[0m\u001B[32m\\n\u001B[0m\n",
       "\u001B[32mrun_bad_task\u001B[0m\u001B[32m(\u001B[0m\u001B[32m)\u001B[0m\u001B[32m\\n  File \"/var/folders/3y/7t5ll4sn6x76g8rhfqlc36dw0000gn/T/ipykernel_7135/2741605091.py\", line 51, in\u001B[0m\n",
       "\u001B[32mrun_bad_task\\n    raise TaskError\u001B[0m\u001B[32m(\u001B[0m\u001B[32m\"task failed\"\u001B[0m\u001B[32m)\u001B[0m\u001B[32m\\nTaskError: task failed\\n'\u001B[0m\n",
       "    \u001B[1m}\u001B[0m\n",
       "\u001B[1m)\u001B[0m\n"
      ]
     },
     "metadata": {},
     "output_type": "display_data"
    },
    {
     "name": "stdout",
     "output_type": "stream",
     "text": [
      "tracker.status_name = 'failed'\n"
     ]
    }
   ],
   "source": [
    "tracker = MyTracker.load(id=2)\n",
    "rprint(tracker)\n",
    "print(f\"{tracker.status_name = }\")"
   ]
  },
  {
   "cell_type": "markdown",
   "id": "4b19ffdf-b3b3-44a4-a1e5-5b8dceb488cd",
   "metadata": {
    "editable": true,
    "slideshow": {
     "slide_type": ""
    },
    "tags": [],
    "pycharm": {
     "name": "#%% md\n"
    }
   },
   "source": [
    "## Automatically Set Status as Exhausted When Reach Max Attempts"
   ]
  },
  {
   "cell_type": "code",
   "execution_count": 9,
   "id": "6f7694a2-b917-43df-8539-8b41b56e483f",
   "metadata": {
    "editable": true,
    "slideshow": {
     "slide_type": ""
    },
    "tags": [],
    "pycharm": {
     "name": "#%%\n"
    }
   },
   "outputs": [
    {
     "name": "stdout",
     "output_type": "stream",
     "text": [
      "+----- ⏱ ⏩ start task(id=2, status=20 (failed), attempts=2) -------------------+\n",
      "| set status = 10 (⏳ in_progress) and 🔓 lock the task.\n",
      "| +----- start task logging ---------------------------------------------------+\n",
      "| ⏳ run bad task\n",
      "| +----- end task logging -----------------------------------------------------+\n",
      "| ❌ task failed, set status = 20 (❌ failed) and 🔐 unlock the task.\n",
      "+----- ⏰ ⏹️ end task(id=2 status=20)) -----------------------------------------+\n"
     ]
    },
    {
     "ename": "TaskError",
     "evalue": "task failed",
     "output_type": "error",
     "traceback": [
      "\u001B[0;31m---------------------------------------------------------------------------\u001B[0m",
      "\u001B[0;31mTaskError\u001B[0m                                 Traceback (most recent call last)",
      "Cell \u001B[0;32mIn[9], line 2\u001B[0m\n\u001B[1;32m      1\u001B[0m \u001B[38;5;28;01mwith\u001B[39;00m tracker\u001B[38;5;241m.\u001B[39mstart(verbose\u001B[38;5;241m=\u001B[39m\u001B[38;5;28;01mTrue\u001B[39;00m):\n\u001B[0;32m----> 2\u001B[0m     \u001B[43mrun_bad_task\u001B[49m\u001B[43m(\u001B[49m\u001B[43m)\u001B[49m\n",
      "Cell \u001B[0;32mIn[1], line 51\u001B[0m, in \u001B[0;36mrun_bad_task\u001B[0;34m()\u001B[0m\n\u001B[1;32m     49\u001B[0m \u001B[38;5;28;01mdef\u001B[39;00m \u001B[38;5;21mrun_bad_task\u001B[39m():\n\u001B[1;32m     50\u001B[0m     logger\u001B[38;5;241m.\u001B[39minfo(\u001B[38;5;124m\"\u001B[39m\u001B[38;5;124mrun bad task\u001B[39m\u001B[38;5;124m\"\u001B[39m)\n\u001B[0;32m---> 51\u001B[0m     \u001B[38;5;28;01mraise\u001B[39;00m TaskError(\u001B[38;5;124m\"\u001B[39m\u001B[38;5;124mtask failed\u001B[39m\u001B[38;5;124m\"\u001B[39m)\n",
      "\u001B[0;31mTaskError\u001B[0m: task failed"
     ]
    }
   ],
   "source": [
    "with tracker.start(verbose=True):\n",
    "    run_bad_task()"
   ]
  },
  {
   "cell_type": "code",
   "execution_count": 10,
   "id": "e7ce2955-4f31-4f30-a2a9-970024e99dff",
   "metadata": {
    "editable": true,
    "slideshow": {
     "slide_type": ""
    },
    "tags": [],
    "pycharm": {
     "name": "#%%\n"
    }
   },
   "outputs": [
    {
     "name": "stdout",
     "output_type": "stream",
     "text": [
      "+----- ⏱ ⏩ start task(id=2, status=20 (failed), attempts=3) -------------------+\n",
      "| set status = 10 (⏳ in_progress) and 🔓 lock the task.\n",
      "| +----- start task logging ---------------------------------------------------+\n",
      "| ⏳ run bad task\n",
      "| +----- end task logging -----------------------------------------------------+\n",
      "| ❌ task failed 3 times already, set status = 30 (🚫 ignored) and 🔐 unlock the task.\n",
      "+----- ⏰ ⏹️ end task(id=2 status=30)) -----------------------------------------+\n"
     ]
    },
    {
     "ename": "TaskError",
     "evalue": "task failed",
     "output_type": "error",
     "traceback": [
      "\u001B[0;31m---------------------------------------------------------------------------\u001B[0m",
      "\u001B[0;31mTaskError\u001B[0m                                 Traceback (most recent call last)",
      "Cell \u001B[0;32mIn[10], line 2\u001B[0m\n\u001B[1;32m      1\u001B[0m \u001B[38;5;28;01mwith\u001B[39;00m tracker\u001B[38;5;241m.\u001B[39mstart(verbose\u001B[38;5;241m=\u001B[39m\u001B[38;5;28;01mTrue\u001B[39;00m):\n\u001B[0;32m----> 2\u001B[0m     \u001B[43mrun_bad_task\u001B[49m\u001B[43m(\u001B[49m\u001B[43m)\u001B[49m\n",
      "Cell \u001B[0;32mIn[1], line 51\u001B[0m, in \u001B[0;36mrun_bad_task\u001B[0;34m()\u001B[0m\n\u001B[1;32m     49\u001B[0m \u001B[38;5;28;01mdef\u001B[39;00m \u001B[38;5;21mrun_bad_task\u001B[39m():\n\u001B[1;32m     50\u001B[0m     logger\u001B[38;5;241m.\u001B[39minfo(\u001B[38;5;124m\"\u001B[39m\u001B[38;5;124mrun bad task\u001B[39m\u001B[38;5;124m\"\u001B[39m)\n\u001B[0;32m---> 51\u001B[0m     \u001B[38;5;28;01mraise\u001B[39;00m TaskError(\u001B[38;5;124m\"\u001B[39m\u001B[38;5;124mtask failed\u001B[39m\u001B[38;5;124m\"\u001B[39m)\n",
      "\u001B[0;31mTaskError\u001B[0m: task failed"
     ]
    }
   ],
   "source": [
    "with tracker.start(verbose=True):\n",
    "    run_bad_task()"
   ]
  },
  {
   "cell_type": "code",
   "execution_count": 11,
   "id": "441527f0-1c43-491b-91ef-1e2c278b9c70",
   "metadata": {
    "editable": true,
    "slideshow": {
     "slide_type": ""
    },
    "tags": [],
    "pycharm": {
     "name": "#%%\n"
    }
   },
   "outputs": [
    {
     "name": "stdout",
     "output_type": "stream",
     "text": [
      "+----- ⏱ ⏩ start task(id=2, status=30 (exhausted), attempts=4) ----------------+\n",
      "| the task is 🚫 exhausted, do nothing!\n",
      "+----- ⏰ ⏹️ end task(id=2 status=30)) -----------------------------------------+\n"
     ]
    },
    {
     "ename": "NoMoreRetryError",
     "evalue": "Already tried 3 times, No more retry for task 2.",
     "output_type": "error",
     "traceback": [
      "\u001B[0;31m---------------------------------------------------------------------------\u001B[0m",
      "\u001B[0;31mNoMoreRetryError\u001B[0m                          Traceback (most recent call last)",
      "Cell \u001B[0;32mIn[11], line 1\u001B[0m\n\u001B[0;32m----> 1\u001B[0m \u001B[38;5;28;01mwith\u001B[39;00m tracker\u001B[38;5;241m.\u001B[39mstart(verbose\u001B[38;5;241m=\u001B[39m\u001B[38;5;28;01mTrue\u001B[39;00m):\n\u001B[1;32m      2\u001B[0m     run_bad_task()\n",
      "File \u001B[0;32m~/.pyenv/versions/3.8.13/lib/python3.8/contextlib.py:113\u001B[0m, in \u001B[0;36m_GeneratorContextManager.__enter__\u001B[0;34m(self)\u001B[0m\n\u001B[1;32m    111\u001B[0m \u001B[38;5;28;01mdel\u001B[39;00m \u001B[38;5;28mself\u001B[39m\u001B[38;5;241m.\u001B[39margs, \u001B[38;5;28mself\u001B[39m\u001B[38;5;241m.\u001B[39mkwds, \u001B[38;5;28mself\u001B[39m\u001B[38;5;241m.\u001B[39mfunc\n\u001B[1;32m    112\u001B[0m \u001B[38;5;28;01mtry\u001B[39;00m:\n\u001B[0;32m--> 113\u001B[0m     \u001B[38;5;28;01mreturn\u001B[39;00m \u001B[38;5;28;43mnext\u001B[39;49m\u001B[43m(\u001B[49m\u001B[38;5;28;43mself\u001B[39;49m\u001B[38;5;241;43m.\u001B[39;49m\u001B[43mgen\u001B[49m\u001B[43m)\u001B[49m\n\u001B[1;32m    114\u001B[0m \u001B[38;5;28;01mexcept\u001B[39;00m \u001B[38;5;167;01mStopIteration\u001B[39;00m:\n\u001B[1;32m    115\u001B[0m     \u001B[38;5;28;01mraise\u001B[39;00m \u001B[38;5;167;01mRuntimeError\u001B[39;00m(\u001B[38;5;124m\"\u001B[39m\u001B[38;5;124mgenerator didn\u001B[39m\u001B[38;5;124m'\u001B[39m\u001B[38;5;124mt yield\u001B[39m\u001B[38;5;124m\"\u001B[39m) \u001B[38;5;28;01mfrom\u001B[39;00m \u001B[38;5;28;01mNone\u001B[39;00m\n",
      "File \u001B[0;32m~/Documents/GitHub/abstract_tracker-project/abstract_tracker/base.py:351\u001B[0m, in \u001B[0;36mBaseTracker.start\u001B[0;34m(self, lock, now, expire, ignore_lock, force_execution, verbose)\u001B[0m\n\u001B[1;32m    349\u001B[0m         logger\u001B[38;5;241m.\u001B[39minfo(\u001B[38;5;124mf\u001B[39m\u001B[38;5;124m\"\u001B[39m\u001B[38;5;124mthe task is 🚫 exhausted, do nothing!\u001B[39m\u001B[38;5;124m\"\u001B[39m)\n\u001B[1;32m    350\u001B[0m         logger\u001B[38;5;241m.\u001B[39mruler(\u001B[38;5;124mf\u001B[39m\u001B[38;5;124m\"\u001B[39m\u001B[38;5;124m⏰ ⏹️ end task(id=\u001B[39m\u001B[38;5;132;01m{\u001B[39;00m\u001B[38;5;28mself\u001B[39m\u001B[38;5;241m.\u001B[39mid\u001B[38;5;132;01m!r}\u001B[39;00m\u001B[38;5;124m status=\u001B[39m\u001B[38;5;132;01m{\u001B[39;00m\u001B[38;5;28mself\u001B[39m\u001B[38;5;241m.\u001B[39mstatus\u001B[38;5;132;01m!r}\u001B[39;00m\u001B[38;5;124m))\u001B[39m\u001B[38;5;124m\"\u001B[39m)\n\u001B[0;32m--> 351\u001B[0m         \u001B[38;5;28;01mraise\u001B[39;00m NoMoreRetryError(\n\u001B[1;32m    352\u001B[0m             \u001B[38;5;124mf\u001B[39m\u001B[38;5;124m\"\u001B[39m\u001B[38;5;124mAlready tried \u001B[39m\u001B[38;5;132;01m{\u001B[39;00m\u001B[38;5;28mself\u001B[39m\u001B[38;5;241m.\u001B[39mattempts\u001B[38;5;132;01m}\u001B[39;00m\u001B[38;5;124m times, No more retry for task \u001B[39m\u001B[38;5;132;01m{\u001B[39;00m\u001B[38;5;28mself\u001B[39m\u001B[38;5;241m.\u001B[39mid\u001B[38;5;132;01m}\u001B[39;00m\u001B[38;5;124m.\u001B[39m\u001B[38;5;124m\"\u001B[39m\n\u001B[1;32m    353\u001B[0m         )\n\u001B[1;32m    355\u001B[0m \u001B[38;5;28;01mif\u001B[39;00m \u001B[38;5;28mself\u001B[39m\u001B[38;5;241m.\u001B[39mstatus \u001B[38;5;241m==\u001B[39m status_enum\u001B[38;5;241m.\u001B[39mignored\u001B[38;5;241m.\u001B[39mvalue:  \u001B[38;5;66;03m# pragma: no cover\u001B[39;00m\n\u001B[1;32m    356\u001B[0m     \u001B[38;5;28;01mif\u001B[39;00m force_execution \u001B[38;5;129;01mis\u001B[39;00m \u001B[38;5;28;01mFalse\u001B[39;00m:\n",
      "\u001B[0;31mNoMoreRetryError\u001B[0m: Already tried 3 times, No more retry for task 2."
     ]
    }
   ],
   "source": [
    "with tracker.start(verbose=True):\n",
    "    run_bad_task()"
   ]
  },
  {
   "cell_type": "markdown",
   "id": "b812e8a3-c1d5-45c3-858c-e29968cf248d",
   "metadata": {
    "editable": true,
    "slideshow": {
     "slide_type": ""
    },
    "tags": [],
    "pycharm": {
     "name": "#%% md\n"
    }
   },
   "source": [
    "## Automatically Set Concurrency Lock To Prevent Double Consumption"
   ]
  },
  {
   "cell_type": "code",
   "execution_count": 12,
   "id": "4f220c29-0d3d-46b8-9d03-5dce46c55aca",
   "metadata": {
    "editable": true,
    "slideshow": {
     "slide_type": ""
    },
    "tags": [],
    "pycharm": {
     "name": "#%%\n"
    }
   },
   "outputs": [
    {
     "name": "stdout",
     "output_type": "stream",
     "text": [
      "+----- ⏱ ⏩ start task(id=3, status=0 (pending), attempts=1) -------------------+\n",
      "| set status = 10 (⏳ in_progress) and 🔓 lock the task.\n",
      "| +----- start task logging ---------------------------------------------------+\n",
      "| ⏳ +----- ⏱ ⏩ start task(id=3, status=10 (in_progress), attempts=2) ----------+\n",
      "| ⏳ | 🔓 the task is locked, do nothing!\n",
      "| ⏳ +----- ⏰ ⏹️ end task(id=3 status=10)) -------------------------------------+\n",
      "| ⏳ run good task\n",
      "| +----- end task logging -----------------------------------------------------+\n",
      "| task succeeded, set status = 40 (✅ succeeded) and 🔐 unlock the task.\n",
      "+----- ⏰ ⏹️ end task(id=3 status=40)) -----------------------------------------+\n"
     ]
    },
    {
     "data": {
      "text/html": [
       "<pre style=\"white-space:pre;overflow-x:auto;line-height:normal;font-family:Menlo,'DejaVu Sans Mono',consolas,'Courier New',monospace\"><span style=\"color: #800080; text-decoration-color: #800080; font-weight: bold\">MyTracker</span><span style=\"font-weight: bold\">(</span>\n",
       "    <span style=\"color: #808000; text-decoration-color: #808000\">id</span>=<span style=\"color: #008080; text-decoration-color: #008080; font-weight: bold\">3</span>,\n",
       "    <span style=\"color: #808000; text-decoration-color: #808000\">status</span>=<span style=\"color: #008080; text-decoration-color: #008080; font-weight: bold\">40</span>,\n",
       "    <span style=\"color: #808000; text-decoration-color: #808000\">attempts</span>=<span style=\"color: #008080; text-decoration-color: #008080; font-weight: bold\">1</span>,\n",
       "    <span style=\"color: #808000; text-decoration-color: #808000\">create_time</span>=<span style=\"color: #800080; text-decoration-color: #800080; font-weight: bold\">datetime</span><span style=\"color: #800080; text-decoration-color: #800080; font-weight: bold\">.datetime</span><span style=\"font-weight: bold\">(</span><span style=\"color: #008080; text-decoration-color: #008080; font-weight: bold\">2024</span>, <span style=\"color: #008080; text-decoration-color: #008080; font-weight: bold\">1</span>, <span style=\"color: #008080; text-decoration-color: #008080; font-weight: bold\">9</span>, <span style=\"color: #008080; text-decoration-color: #008080; font-weight: bold\">4</span>, <span style=\"color: #008080; text-decoration-color: #008080; font-weight: bold\">51</span>, <span style=\"color: #008080; text-decoration-color: #008080; font-weight: bold\">8</span>, <span style=\"color: #008080; text-decoration-color: #008080; font-weight: bold\">928509</span>, <span style=\"color: #808000; text-decoration-color: #808000\">tzinfo</span>=<span style=\"color: #800080; text-decoration-color: #800080\">datetime</span>.timezone.utc<span style=\"font-weight: bold\">)</span>,\n",
       "    <span style=\"color: #808000; text-decoration-color: #808000\">update_time</span>=<span style=\"color: #800080; text-decoration-color: #800080; font-weight: bold\">datetime</span><span style=\"color: #800080; text-decoration-color: #800080; font-weight: bold\">.datetime</span><span style=\"font-weight: bold\">(</span><span style=\"color: #008080; text-decoration-color: #008080; font-weight: bold\">2024</span>, <span style=\"color: #008080; text-decoration-color: #008080; font-weight: bold\">1</span>, <span style=\"color: #008080; text-decoration-color: #008080; font-weight: bold\">9</span>, <span style=\"color: #008080; text-decoration-color: #008080; font-weight: bold\">4</span>, <span style=\"color: #008080; text-decoration-color: #008080; font-weight: bold\">51</span>, <span style=\"color: #008080; text-decoration-color: #008080; font-weight: bold\">8</span>, <span style=\"color: #008080; text-decoration-color: #008080; font-weight: bold\">936543</span>, <span style=\"color: #808000; text-decoration-color: #808000\">tzinfo</span>=<span style=\"color: #800080; text-decoration-color: #800080\">datetime</span>.timezone.utc<span style=\"font-weight: bold\">)</span>,\n",
       "    <span style=\"color: #808000; text-decoration-color: #808000\">lock</span>=<span style=\"color: #800080; text-decoration-color: #800080; font-style: italic\">None</span>,\n",
       "    <span style=\"color: #808000; text-decoration-color: #808000\">lock_time</span>=<span style=\"color: #800080; text-decoration-color: #800080; font-weight: bold\">datetime</span><span style=\"color: #800080; text-decoration-color: #800080; font-weight: bold\">.datetime</span><span style=\"font-weight: bold\">(</span><span style=\"color: #008080; text-decoration-color: #008080; font-weight: bold\">2024</span>, <span style=\"color: #008080; text-decoration-color: #008080; font-weight: bold\">1</span>, <span style=\"color: #008080; text-decoration-color: #008080; font-weight: bold\">9</span>, <span style=\"color: #008080; text-decoration-color: #008080; font-weight: bold\">4</span>, <span style=\"color: #008080; text-decoration-color: #008080; font-weight: bold\">51</span>, <span style=\"color: #008080; text-decoration-color: #008080; font-weight: bold\">8</span>, <span style=\"color: #008080; text-decoration-color: #008080; font-weight: bold\">932794</span>, <span style=\"color: #808000; text-decoration-color: #808000\">tzinfo</span>=<span style=\"color: #800080; text-decoration-color: #800080\">datetime</span>.timezone.utc<span style=\"font-weight: bold\">)</span>,\n",
       "    <span style=\"color: #808000; text-decoration-color: #808000\">lock_expire_time</span>=<span style=\"color: #800080; text-decoration-color: #800080; font-weight: bold\">datetime</span><span style=\"color: #800080; text-decoration-color: #800080; font-weight: bold\">.datetime</span><span style=\"font-weight: bold\">(</span><span style=\"color: #008080; text-decoration-color: #008080; font-weight: bold\">2024</span>, <span style=\"color: #008080; text-decoration-color: #008080; font-weight: bold\">1</span>, <span style=\"color: #008080; text-decoration-color: #008080; font-weight: bold\">9</span>, <span style=\"color: #008080; text-decoration-color: #008080; font-weight: bold\">4</span>, <span style=\"color: #008080; text-decoration-color: #008080; font-weight: bold\">51</span>, <span style=\"color: #008080; text-decoration-color: #008080; font-weight: bold\">18</span>, <span style=\"color: #008080; text-decoration-color: #008080; font-weight: bold\">932794</span>, <span style=\"color: #808000; text-decoration-color: #808000\">tzinfo</span>=<span style=\"color: #800080; text-decoration-color: #800080\">datetime</span>.timezone.utc<span style=\"font-weight: bold\">)</span>,\n",
       "    <span style=\"color: #808000; text-decoration-color: #808000\">data</span>=<span style=\"font-weight: bold\">{}</span>,\n",
       "    <span style=\"color: #808000; text-decoration-color: #808000\">errors</span>=<span style=\"font-weight: bold\">{}</span>\n",
       "<span style=\"font-weight: bold\">)</span>\n",
       "</pre>\n"
      ],
      "text/plain": [
       "\u001B[1;35mMyTracker\u001B[0m\u001B[1m(\u001B[0m\n",
       "    \u001B[33mid\u001B[0m=\u001B[1;36m3\u001B[0m,\n",
       "    \u001B[33mstatus\u001B[0m=\u001B[1;36m40\u001B[0m,\n",
       "    \u001B[33mattempts\u001B[0m=\u001B[1;36m1\u001B[0m,\n",
       "    \u001B[33mcreate_time\u001B[0m=\u001B[1;35mdatetime\u001B[0m\u001B[1;35m.datetime\u001B[0m\u001B[1m(\u001B[0m\u001B[1;36m2024\u001B[0m, \u001B[1;36m1\u001B[0m, \u001B[1;36m9\u001B[0m, \u001B[1;36m4\u001B[0m, \u001B[1;36m51\u001B[0m, \u001B[1;36m8\u001B[0m, \u001B[1;36m928509\u001B[0m, \u001B[33mtzinfo\u001B[0m=\u001B[35mdatetime\u001B[0m.timezone.utc\u001B[1m)\u001B[0m,\n",
       "    \u001B[33mupdate_time\u001B[0m=\u001B[1;35mdatetime\u001B[0m\u001B[1;35m.datetime\u001B[0m\u001B[1m(\u001B[0m\u001B[1;36m2024\u001B[0m, \u001B[1;36m1\u001B[0m, \u001B[1;36m9\u001B[0m, \u001B[1;36m4\u001B[0m, \u001B[1;36m51\u001B[0m, \u001B[1;36m8\u001B[0m, \u001B[1;36m936543\u001B[0m, \u001B[33mtzinfo\u001B[0m=\u001B[35mdatetime\u001B[0m.timezone.utc\u001B[1m)\u001B[0m,\n",
       "    \u001B[33mlock\u001B[0m=\u001B[3;35mNone\u001B[0m,\n",
       "    \u001B[33mlock_time\u001B[0m=\u001B[1;35mdatetime\u001B[0m\u001B[1;35m.datetime\u001B[0m\u001B[1m(\u001B[0m\u001B[1;36m2024\u001B[0m, \u001B[1;36m1\u001B[0m, \u001B[1;36m9\u001B[0m, \u001B[1;36m4\u001B[0m, \u001B[1;36m51\u001B[0m, \u001B[1;36m8\u001B[0m, \u001B[1;36m932794\u001B[0m, \u001B[33mtzinfo\u001B[0m=\u001B[35mdatetime\u001B[0m.timezone.utc\u001B[1m)\u001B[0m,\n",
       "    \u001B[33mlock_expire_time\u001B[0m=\u001B[1;35mdatetime\u001B[0m\u001B[1;35m.datetime\u001B[0m\u001B[1m(\u001B[0m\u001B[1;36m2024\u001B[0m, \u001B[1;36m1\u001B[0m, \u001B[1;36m9\u001B[0m, \u001B[1;36m4\u001B[0m, \u001B[1;36m51\u001B[0m, \u001B[1;36m18\u001B[0m, \u001B[1;36m932794\u001B[0m, \u001B[33mtzinfo\u001B[0m=\u001B[35mdatetime\u001B[0m.timezone.utc\u001B[1m)\u001B[0m,\n",
       "    \u001B[33mdata\u001B[0m=\u001B[1m{\u001B[0m\u001B[1m}\u001B[0m,\n",
       "    \u001B[33merrors\u001B[0m=\u001B[1m{\u001B[0m\u001B[1m}\u001B[0m\n",
       "\u001B[1m)\u001B[0m\n"
      ]
     },
     "metadata": {},
     "output_type": "display_data"
    },
    {
     "name": "stdout",
     "output_type": "stream",
     "text": [
      "tracker.status_name = 'succeeded'\n"
     ]
    }
   ],
   "source": [
    "tracker1 = MyTracker.new(id=3)\n",
    "with tracker1.start(verbose=True):\n",
    "    # Another worker load the tracker data\n",
    "    tracker2 = MyTracker.load(id=3)\n",
    "    with logger.nested(): # just make the logging nicer\n",
    "        try:\n",
    "            # Worker 2 try to run task\n",
    "            with tracker2.start(verbose=True):\n",
    "                run_good_task() # worker 2 won't be able to run task\n",
    "        except TaskLockedError as e:\n",
    "            pass\n",
    "    run_good_task() # worker 1 then can finish the task\n",
    "tracker = MyTracker.load(id=3)\n",
    "rprint(tracker)\n",
    "print(f\"{tracker.status_name = }\")"
   ]
  }
 ],
 "metadata": {
  "kernelspec": {
   "display_name": "Python 3 (ipykernel)",
   "language": "python",
   "name": "python3"
  },
  "language_info": {
   "codemirror_mode": {
    "name": "ipython",
    "version": 3
   },
   "file_extension": ".py",
   "mimetype": "text/x-python",
   "name": "python",
   "nbconvert_exporter": "python",
   "pygments_lexer": "ipython3",
   "version": "3.8.13"
  }
 },
 "nbformat": 4,
 "nbformat_minor": 5
}